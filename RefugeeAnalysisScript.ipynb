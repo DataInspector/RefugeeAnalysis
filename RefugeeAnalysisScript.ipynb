{
 "cells": [
  {
   "cell_type": "code",
   "execution_count": 1,
   "metadata": {
    "collapsed": true
   },
   "outputs": [],
   "source": [
    "import pandas as pd, numpy as np, matplotlib as mpl, xlrd"
   ]
  },
  {
   "cell_type": "code",
   "execution_count": 2,
   "metadata": {},
   "outputs": [],
   "source": [
    "#Read and clean raw data and country/continent lookup table\n",
    "RawData = pd.read_excel(\"RefugeeData.xlsx\")\n",
    "df = RawData.drop(axis = 1, labels=['Population type'])\n",
    "ContinentLookup = pd.read_excel('ContinentsList.xlsx')\n",
    "ContinentLookup = ContinentLookup.rename(columns={'Country or territory of asylum or residence':'Country'})\n",
    "df = df.rename(columns={'Country / territory of asylum/residence': 'CountryTo','Origin': 'CountryFrom'})"
   ]
  },
  {
   "cell_type": "code",
   "execution_count": 3,
   "metadata": {
    "collapsed": true
   },
   "outputs": [],
   "source": [
    "#add ContinentTo to df by joining with continent lookup table\n",
    "df = df.merge(ContinentLookup, left_on = \"CountryTo\", right_on = \"Country\", how = \"left\", copy=False).drop(labels = [\"Country\"], axis = 1)\n",
    "df = df.rename(columns={'Continent': 'ContinentTo'})"
   ]
  },
  {
   "cell_type": "code",
   "execution_count": 4,
   "metadata": {
    "collapsed": true
   },
   "outputs": [],
   "source": [
    "#add ContinentFrom to df by joining with continent lookup table\n",
    "df = df.merge(ContinentLookup, left_on = \"CountryFrom\", right_on = \"Country\").drop(labels = [\"Country\"], axis = 1)\n",
    "df = df.rename(columns={'Continent': 'ContinentFrom'})"
   ]
  },
  {
   "cell_type": "code",
   "execution_count": 5,
   "metadata": {
    "collapsed": true
   },
   "outputs": [],
   "source": [
    "#Remove rows with all various locations\n",
    "VariousString = \"Various/Unknown\" + \"Various/Unknown\" + \"Various\" + \"Various\"\n",
    "AllColumns = df.CountryTo + df.CountryFrom + df.ContinentFrom + df.ContinentTo\n",
    "df[\"RemoveVarious\"] = AllColumns\n",
    "df = df.loc[df.RemoveVarious != VariousString]\n",
    "df = df.drop(columns=\"RemoveVarious\")"
   ]
  },
  {
   "cell_type": "code",
   "execution_count": 6,
   "metadata": {
    "collapsed": true
   },
   "outputs": [],
   "source": [
    "#Change rows that have North Africa to Africa\n",
    "df['ContinentFromClean'] = np.where(\n",
    "                                     df.ContinentFrom==\"North Africa\"\n",
    "                                    ,\"Africa\"\n",
    "                                    ,df.ContinentFrom\n",
    "                                    )\n",
    "\n",
    "df['ContinentToClean'] = np.where(\n",
    "                                    df.ContinentTo==\"North Africa\"\n",
    "                                   ,\"Africa\"\n",
    "                                   ,df.ContinentTo\n",
    "                                  )\n"
   ]
  },
  {
   "cell_type": "code",
   "execution_count": 7,
   "metadata": {
    "collapsed": true
   },
   "outputs": [],
   "source": [
    "#Drop old columns\n",
    "df = df.drop('ContinentFrom', 1)\n",
    "df = df.drop('ContinentTo', 1)\n",
    "df = df.rename(columns={'ContinentFromClean': 'ContinentFrom','ContinentToClean': 'ContinentTo'})"
   ]
  },
  {
   "cell_type": "code",
   "execution_count": 8,
   "metadata": {
    "collapsed": true
   },
   "outputs": [],
   "source": [
    "#Reorder columns\n",
    "df = df[['Year','Value','CountryFrom','CountryTo','ContinentFrom','ContinentTo']]"
   ]
  },
  {
   "cell_type": "code",
   "execution_count": 9,
   "metadata": {
    "collapsed": true
   },
   "outputs": [],
   "source": [
    "#Remove rows where value = '*'\n",
    "df = df.loc[df.Value != '*']"
   ]
  },
  {
   "cell_type": "code",
   "execution_count": 11,
   "metadata": {
    "collapsed": true
   },
   "outputs": [],
   "source": [
    "#Export final table to csv\n",
    "df.to_csv(\"CleanRefugeeTable.csv\")"
   ]
  }
 ],
 "metadata": {
  "kernelspec": {
   "display_name": "Python 3",
   "language": "python",
   "name": "python3"
  },
  "language_info": {
   "codemirror_mode": {
    "name": "ipython",
    "version": 3
   },
   "file_extension": ".py",
   "mimetype": "text/x-python",
   "name": "python",
   "nbconvert_exporter": "python",
   "pygments_lexer": "ipython3",
   "version": "3.5.2"
  }
 },
 "nbformat": 4,
 "nbformat_minor": 2
}
