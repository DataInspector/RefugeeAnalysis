{
 "cells": [
  {
   "cell_type": "markdown",
   "metadata": {},
   "source": [
    "# Install Packages"
   ]
  },
  {
   "cell_type": "code",
   "execution_count": 2,
   "metadata": {},
   "outputs": [
    {
     "name": "stderr",
     "output_type": "stream",
     "text": [
      "Installing package into ‘/home/ubuntu/R/x86_64-pc-linux-gnu-library/3.4’\n",
      "(as ‘lib’ is unspecified)\n",
      "also installing the dependencies ‘curl’, ‘openssl’, ‘httr’, ‘rvest’, ‘feather’\n",
      "\n",
      "Warning message in install.packages(\"tidyverse\", dep = TRUE):\n",
      "“installation of package ‘curl’ had non-zero exit status”Warning message in install.packages(\"tidyverse\", dep = TRUE):\n",
      "“installation of package ‘openssl’ had non-zero exit status”Warning message in install.packages(\"tidyverse\", dep = TRUE):\n",
      "“installation of package ‘httr’ had non-zero exit status”Warning message in install.packages(\"tidyverse\", dep = TRUE):\n",
      "“installation of package ‘rvest’ had non-zero exit status”Warning message in install.packages(\"tidyverse\", dep = TRUE):\n",
      "“installation of package ‘tidyverse’ had non-zero exit status”"
     ]
    }
   ],
   "source": [
    "install.packages(\"tidyverse\", dep = TRUE)"
   ]
  },
  {
   "cell_type": "markdown",
   "metadata": {},
   "source": [
    "# Load Packages"
   ]
  },
  {
   "cell_type": "code",
   "execution_count": 15,
   "metadata": {},
   "outputs": [
    {
     "name": "stderr",
     "output_type": "stream",
     "text": [
      "\n",
      "Attaching package: ‘dplyr’\n",
      "\n",
      "The following objects are masked from ‘package:stats’:\n",
      "\n",
      "    filter, lag\n",
      "\n",
      "The following objects are masked from ‘package:base’:\n",
      "\n",
      "    intersect, setdiff, setequal, union\n",
      "\n"
     ]
    }
   ],
   "source": [
    "library(dplyr)\n",
    "library(ggplot2)"
   ]
  },
  {
   "cell_type": "markdown",
   "metadata": {},
   "source": [
    "# Pull Datasets"
   ]
  },
  {
   "cell_type": "code",
   "execution_count": 11,
   "metadata": {},
   "outputs": [
    {
     "data": {
      "text/html": [
       "<table>\n",
       "<thead><tr><th></th><th scope=col>X</th><th scope=col>Year</th><th scope=col>People</th><th scope=col>CountryFrom</th><th scope=col>ContinentFrom</th><th scope=col>CountryTo</th><th scope=col>ContinentTo</th></tr></thead>\n",
       "<tbody>\n",
       "\t<tr><th scope=row>96052</th><td>96051         </td><td>2000          </td><td> 1            </td><td>Bermuda       </td><td>              </td><td>Canada        </td><td>North America </td></tr>\n",
       "\t<tr><th scope=row>96053</th><td>96052         </td><td>1999          </td><td> 1            </td><td>Bermuda       </td><td>              </td><td>Canada        </td><td>North America </td></tr>\n",
       "\t<tr><th scope=row>96054</th><td>96053         </td><td>1998          </td><td> 1            </td><td>Bermuda       </td><td>              </td><td>Canada        </td><td>North America </td></tr>\n",
       "\t<tr><th scope=row>96055</th><td>96054         </td><td>2004          </td><td> 2            </td><td>Holy See (the)</td><td>              </td><td>Germany       </td><td>Europe        </td></tr>\n",
       "\t<tr><th scope=row>96056</th><td>96055         </td><td>1997          </td><td> 1            </td><td>Martinique    </td><td>              </td><td>Morocco       </td><td>Africa        </td></tr>\n",
       "\t<tr><th scope=row>96057</th><td>96056         </td><td>1996          </td><td> 1            </td><td>Martinique    </td><td>              </td><td>Morocco       </td><td>Africa        </td></tr>\n",
       "\t<tr><th scope=row>96058</th><td>96057         </td><td>1995          </td><td> 1            </td><td>Martinique    </td><td>              </td><td>Morocco       </td><td>Africa        </td></tr>\n",
       "\t<tr><th scope=row>96059</th><td>96058         </td><td>1996          </td><td>12            </td><td>Puerto Rico   </td><td>              </td><td>Canada        </td><td>North America </td></tr>\n",
       "\t<tr><th scope=row>96060</th><td>96059         </td><td>1995          </td><td>12            </td><td>Puerto Rico   </td><td>              </td><td>Canada        </td><td>North America </td></tr>\n",
       "\t<tr><th scope=row>96061</th><td>96060         </td><td>1994          </td><td>12            </td><td>Puerto Rico   </td><td>              </td><td>Canada        </td><td>North America </td></tr>\n",
       "</tbody>\n",
       "</table>\n"
      ],
      "text/latex": [
       "\\begin{tabular}{r|lllllll}\n",
       "  & X & Year & People & CountryFrom & ContinentFrom & CountryTo & ContinentTo\\\\\n",
       "\\hline\n",
       "\t96052 & 96051          & 2000           &  1             & Bermuda        &                & Canada         & North America \\\\\n",
       "\t96053 & 96052          & 1999           &  1             & Bermuda        &                & Canada         & North America \\\\\n",
       "\t96054 & 96053          & 1998           &  1             & Bermuda        &                & Canada         & North America \\\\\n",
       "\t96055 & 96054          & 2004           &  2             & Holy See (the) &                & Germany        & Europe        \\\\\n",
       "\t96056 & 96055          & 1997           &  1             & Martinique     &                & Morocco        & Africa        \\\\\n",
       "\t96057 & 96056          & 1996           &  1             & Martinique     &                & Morocco        & Africa        \\\\\n",
       "\t96058 & 96057          & 1995           &  1             & Martinique     &                & Morocco        & Africa        \\\\\n",
       "\t96059 & 96058          & 1996           & 12             & Puerto Rico    &                & Canada         & North America \\\\\n",
       "\t96060 & 96059          & 1995           & 12             & Puerto Rico    &                & Canada         & North America \\\\\n",
       "\t96061 & 96060          & 1994           & 12             & Puerto Rico    &                & Canada         & North America \\\\\n",
       "\\end{tabular}\n"
      ],
      "text/markdown": [
       "\n",
       "| <!--/--> | X | Year | People | CountryFrom | ContinentFrom | CountryTo | ContinentTo |\n",
       "|---|---|---|---|---|---|---|---|\n",
       "| 96052 | 96051          | 2000           |  1             | Bermuda        |                | Canada         | North America  |\n",
       "| 96053 | 96052          | 1999           |  1             | Bermuda        |                | Canada         | North America  |\n",
       "| 96054 | 96053          | 1998           |  1             | Bermuda        |                | Canada         | North America  |\n",
       "| 96055 | 96054          | 2004           |  2             | Holy See (the) |                | Germany        | Europe         |\n",
       "| 96056 | 96055          | 1997           |  1             | Martinique     |                | Morocco        | Africa         |\n",
       "| 96057 | 96056          | 1996           |  1             | Martinique     |                | Morocco        | Africa         |\n",
       "| 96058 | 96057          | 1995           |  1             | Martinique     |                | Morocco        | Africa         |\n",
       "| 96059 | 96058          | 1996           | 12             | Puerto Rico    |                | Canada         | North America  |\n",
       "| 96060 | 96059          | 1995           | 12             | Puerto Rico    |                | Canada         | North America  |\n",
       "| 96061 | 96060          | 1994           | 12             | Puerto Rico    |                | Canada         | North America  |\n",
       "\n"
      ],
      "text/plain": [
       "      X     Year People CountryFrom    ContinentFrom CountryTo ContinentTo  \n",
       "96052 96051 2000  1     Bermuda                      Canada    North America\n",
       "96053 96052 1999  1     Bermuda                      Canada    North America\n",
       "96054 96053 1998  1     Bermuda                      Canada    North America\n",
       "96055 96054 2004  2     Holy See (the)               Germany   Europe       \n",
       "96056 96055 1997  1     Martinique                   Morocco   Africa       \n",
       "96057 96056 1996  1     Martinique                   Morocco   Africa       \n",
       "96058 96057 1995  1     Martinique                   Morocco   Africa       \n",
       "96059 96058 1996 12     Puerto Rico                  Canada    North America\n",
       "96060 96059 1995 12     Puerto Rico                  Canada    North America\n",
       "96061 96060 1994 12     Puerto Rico                  Canada    North America"
      ]
     },
     "metadata": {},
     "output_type": "display_data"
    }
   ],
   "source": [
    "data = read.csv(\"CleanRefugeeData.csv\")\n",
    "tail(data,10)"
   ]
  },
  {
   "cell_type": "markdown",
   "metadata": {},
   "source": [
    "# Explore Data"
   ]
  },
  {
   "cell_type": "code",
   "execution_count": 10,
   "metadata": {},
   "outputs": [
    {
     "data": {
      "text/plain": [
       "       X              Year          People       \n",
       " Min.   :    0   Min.   :1975   Min.   :      1  \n",
       " 1st Qu.:24015   1st Qu.:2000   1st Qu.:      3  \n",
       " Median :48030   Median :2007   Median :     14  \n",
       " Mean   :48030   Mean   :2005   Mean   :   4947  \n",
       " 3rd Qu.:72045   3rd Qu.:2012   3rd Qu.:    129  \n",
       " Max.   :96060   Max.   :2016   Max.   :3272290  \n",
       "                                NA's   :198      \n",
       "                 CountryFrom          ContinentFrom            CountryTo    \n",
       " Various               : 2347   Africa       :40033   United States : 4011  \n",
       " Somalia               : 2243   Asia         :25696   Canada        : 3917  \n",
       " Iraq                  : 2091   Europe       :12931   Sweden        : 3322  \n",
       " Dem. Rep. of the Congo: 2061                : 6974   Netherlands   : 2932  \n",
       " Sudan                 : 1995   North America: 4970   Italy         : 2816  \n",
       " Ethiopia              : 1937   South America: 4258   United Kingdom: 2622  \n",
       " (Other)               :83387   (Other)      : 1199   (Other)       :76441  \n",
       "        ContinentTo   \n",
       " Europe       :46190  \n",
       " Africa       :16088  \n",
       " North America:11656  \n",
       " Asia         :10190  \n",
       " South America: 7113  \n",
       " Australia    : 2470  \n",
       " (Other)      : 2354  "
      ]
     },
     "metadata": {},
     "output_type": "display_data"
    }
   ],
   "source": [
    "summary(data)"
   ]
  },
  {
   "cell_type": "code",
   "execution_count": 21,
   "metadata": {},
   "outputs": [
    {
     "data": {
      "text/plain": [
       "               ContinentTo\n",
       "ContinentFrom       Africa Asia Australia Europe North Africa North America\n",
       "                  0     26   52         8    161            2            30\n",
       "  Africa          0    665  236        39    971           25           150\n",
       "  Asia            0    122  287        38    810           12           126\n",
       "  Australia       0      0    0         0      4            0             2\n",
       "  Europe          0     17   26        20    406            2            95\n",
       "  North Africa    0      7   14         1     33            0             3\n",
       "  North America   0      7    1         5    132            0            96\n",
       "  Oceania         0      1    0         6      6            0             4\n",
       "  South America   0      3    1         6    107            0            54\n",
       "               ContinentTo\n",
       "ContinentFrom   Oceania South America\n",
       "                      8            20\n",
       "  Africa             28           158\n",
       "  Asia               44           103\n",
       "  Australia           0             0\n",
       "  Europe              8            63\n",
       "  North Africa        2             3\n",
       "  North America       3            54\n",
       "  Oceania             1             0\n",
       "  South America       3            58"
      ]
     },
     "metadata": {},
     "output_type": "display_data"
    }
   ],
   "source": [
    "data[data$Year == 2015,] %>% \n",
    "    with(table(ContinentFrom,ContinentTo))"
   ]
  },
  {
   "cell_type": "code",
   "execution_count": 28,
   "metadata": {},
   "outputs": [
    {
     "data": {
      "text/html": [
       "<table>\n",
       "<thead><tr><th></th><th scope=col>X</th><th scope=col>Year</th><th scope=col>People</th><th scope=col>CountryFrom</th><th scope=col>ContinentFrom</th><th scope=col>CountryTo</th><th scope=col>ContinentTo</th></tr></thead>\n",
       "<tbody>\n",
       "\t<tr><th scope=row>6190</th><td>6189                  </td><td>2015                  </td><td>   42                 </td><td>Dem. Rep. of the Congo</td><td>Africa                </td><td>Algeria               </td><td>Africa                </td></tr>\n",
       "\t<tr><th scope=row>6191</th><td>6190                  </td><td>2015                  </td><td>12944                 </td><td>Dem. Rep. of the Congo</td><td>Africa                </td><td>Angola                </td><td>Africa                </td></tr>\n",
       "\t<tr><th scope=row>6192</th><td>6191                  </td><td>2015                  </td><td>   23                 </td><td>Dem. Rep. of the Congo</td><td>Africa                </td><td>Argentina             </td><td>South America         </td></tr>\n",
       "\t<tr><th scope=row>6193</th><td>6192                  </td><td>2015                  </td><td>   26                 </td><td>Dem. Rep. of the Congo</td><td>Africa                </td><td>Australia             </td><td>Australia             </td></tr>\n",
       "\t<tr><th scope=row>6194</th><td>6193                  </td><td>2015                  </td><td>  419                 </td><td>Dem. Rep. of the Congo</td><td>Africa                </td><td>Austria               </td><td>Europe                </td></tr>\n",
       "\t<tr><th scope=row>6195</th><td>6194                  </td><td>2015                  </td><td> 1008                 </td><td>Dem. Rep. of the Congo</td><td>Africa                </td><td>Belgium               </td><td>Europe                </td></tr>\n",
       "\t<tr><th scope=row>6196</th><td>6195                  </td><td>2015                  </td><td>    1                 </td><td>Dem. Rep. of the Congo</td><td>Africa                </td><td>Benin                 </td><td>Africa                </td></tr>\n",
       "\t<tr><th scope=row>6197</th><td>6196                  </td><td>2015                  </td><td>   80                 </td><td>Dem. Rep. of the Congo</td><td>Africa                </td><td>Botswana              </td><td>Africa                </td></tr>\n",
       "\t<tr><th scope=row>6198</th><td>6197                  </td><td>2015                  </td><td> 1045                 </td><td>Dem. Rep. of the Congo</td><td>Africa                </td><td>Brazil                </td><td>South America         </td></tr>\n",
       "\t<tr><th scope=row>6199</th><td>6198                  </td><td>2015                  </td><td>    2                 </td><td>Dem. Rep. of the Congo</td><td>Africa                </td><td>Bulgaria              </td><td>Europe                </td></tr>\n",
       "\t<tr><th scope=row>6200</th><td>6199                  </td><td>2015                  </td><td>   25                 </td><td>Dem. Rep. of the Congo</td><td>Africa                </td><td>Burkina Faso          </td><td>Africa                </td></tr>\n",
       "\t<tr><th scope=row>6201</th><td>6200                  </td><td>2015                  </td><td>53029                 </td><td>Dem. Rep. of the Congo</td><td>Africa                </td><td>Burundi               </td><td>Africa                </td></tr>\n",
       "\t<tr><th scope=row>6202</th><td>6201                  </td><td>2015                  </td><td>    1                 </td><td>Dem. Rep. of the Congo</td><td>Africa                </td><td>Cambodia              </td><td>Asia                  </td></tr>\n",
       "\t<tr><th scope=row>6203</th><td>6202                  </td><td>2015                  </td><td>  512                 </td><td>Dem. Rep. of the Congo</td><td>Africa                </td><td>Cameroon              </td><td>Africa                </td></tr>\n",
       "\t<tr><th scope=row>6204</th><td>6203                  </td><td>2015                  </td><td> 3316                 </td><td>Dem. Rep. of the Congo</td><td>Africa                </td><td>Canada                </td><td>North America         </td></tr>\n",
       "\t<tr><th scope=row>6205</th><td>6204                  </td><td>2015                  </td><td> 4798                 </td><td>Dem. Rep. of the Congo</td><td>Africa                </td><td>Central African Rep.  </td><td>Africa                </td></tr>\n",
       "\t<tr><th scope=row>6206</th><td>6205                  </td><td>2015                  </td><td>  185                 </td><td>Dem. Rep. of the Congo</td><td>Africa                </td><td>Chad                  </td><td>Africa                </td></tr>\n",
       "\t<tr><th scope=row>6207</th><td>6206                  </td><td>2015                  </td><td>    9                 </td><td>Dem. Rep. of the Congo</td><td>Africa                </td><td>Chile                 </td><td>South America         </td></tr>\n",
       "\t<tr><th scope=row>6208</th><td>6207                  </td><td>2015                  </td><td>    4                 </td><td>Dem. Rep. of the Congo</td><td>Africa                </td><td>China                 </td><td>Asia                  </td></tr>\n",
       "\t<tr><th scope=row>6209</th><td>6208                  </td><td>2015                  </td><td>12267                 </td><td>Dem. Rep. of the Congo</td><td>Africa                </td><td>Congo                 </td><td>Africa                </td></tr>\n",
       "\t<tr><th scope=row>6210</th><td>6209                  </td><td>2015                  </td><td>  157                 </td><td>Dem. Rep. of the Congo</td><td>Africa                </td><td>Côte d'Ivoire         </td><td>Africa                </td></tr>\n",
       "\t<tr><th scope=row>6211</th><td>6210                  </td><td>2015                  </td><td>    2                 </td><td>Dem. Rep. of the Congo</td><td>Africa                </td><td>Croatia               </td><td>Europe                </td></tr>\n",
       "\t<tr><th scope=row>6212</th><td>6211                  </td><td>2015                  </td><td>   17                 </td><td>Dem. Rep. of the Congo</td><td>Africa                </td><td>Cyprus                </td><td>Europe                </td></tr>\n",
       "\t<tr><th scope=row>6213</th><td>6212                  </td><td>2015                  </td><td>   21                 </td><td>Dem. Rep. of the Congo</td><td>Africa                </td><td>Czechia               </td><td>Europe                </td></tr>\n",
       "\t<tr><th scope=row>6214</th><td>6213                  </td><td>2015                  </td><td>   90                 </td><td>Dem. Rep. of the Congo</td><td>Africa                </td><td>Denmark               </td><td>Europe                </td></tr>\n",
       "\t<tr><th scope=row>6215</th><td>6214                  </td><td>2015                  </td><td>   41                 </td><td>Dem. Rep. of the Congo</td><td>Africa                </td><td>Egypt                 </td><td>North Africa          </td></tr>\n",
       "\t<tr><th scope=row>6216</th><td>6215                  </td><td>2015                  </td><td>  426                 </td><td>Dem. Rep. of the Congo</td><td>Africa                </td><td>Ethiopia              </td><td>Africa                </td></tr>\n",
       "\t<tr><th scope=row>6217</th><td>6216                  </td><td>2015                  </td><td>  181                 </td><td>Dem. Rep. of the Congo</td><td>Africa                </td><td>Finland               </td><td>Europe                </td></tr>\n",
       "\t<tr><th scope=row>6218</th><td>6217                  </td><td>2015                  </td><td>14182                 </td><td>Dem. Rep. of the Congo</td><td>Africa                </td><td>France                </td><td>Europe                </td></tr>\n",
       "\t<tr><th scope=row>6219</th><td>6218                  </td><td>2015                  </td><td>   43                 </td><td>Dem. Rep. of the Congo</td><td>Africa                </td><td>Gabon                 </td><td>Africa                </td></tr>\n",
       "\t<tr><th scope=row>6220</th><td>6219                  </td><td>2015                  </td><td>   40                 </td><td>Dem. Rep. of the Congo</td><td>Africa                </td><td>Gambia                </td><td>Africa                </td></tr>\n",
       "\t<tr><th scope=row>6221</th><td>6220                  </td><td>2015                  </td><td> 1537                 </td><td>Dem. Rep. of the Congo</td><td>Africa                </td><td>Germany               </td><td>Europe                </td></tr>\n",
       "\t<tr><th scope=row>6222</th><td>6221                  </td><td>2015                  </td><td>   45                 </td><td>Dem. Rep. of the Congo</td><td>Africa                </td><td>Ghana                 </td><td>Africa                </td></tr>\n",
       "\t<tr><th scope=row>6223</th><td>6222                  </td><td>2015                  </td><td>  129                 </td><td>Dem. Rep. of the Congo</td><td>Africa                </td><td>Greece                </td><td>Europe                </td></tr>\n",
       "\t<tr><th scope=row>6224</th><td>6223                  </td><td>2015                  </td><td>   51                 </td><td>Dem. Rep. of the Congo</td><td>Africa                </td><td>Guinea                </td><td>Africa                </td></tr>\n",
       "\t<tr><th scope=row>6225</th><td>6224                  </td><td>2015                  </td><td>    7                 </td><td>Dem. Rep. of the Congo</td><td>Africa                </td><td>Guinea-Bissau         </td><td>Africa                </td></tr>\n",
       "\t<tr><th scope=row>6226</th><td>6225                  </td><td>2015                  </td><td>    7                 </td><td>Dem. Rep. of the Congo</td><td>Africa                </td><td>Guyana                </td><td>South America         </td></tr>\n",
       "\t<tr><th scope=row>6227</th><td>6226                  </td><td>2015                  </td><td>    1                 </td><td>Dem. Rep. of the Congo</td><td>Africa                </td><td>Haiti                 </td><td>North America         </td></tr>\n",
       "\t<tr><th scope=row>6228</th><td>6227                  </td><td>2015                  </td><td>   16                 </td><td>Dem. Rep. of the Congo</td><td>Africa                </td><td>Hungary               </td><td>Europe                </td></tr>\n",
       "\t<tr><th scope=row>6229</th><td>6228                  </td><td>2015                  </td><td>   43                 </td><td>Dem. Rep. of the Congo</td><td>Africa                </td><td>India                 </td><td>Asia                  </td></tr>\n",
       "\t<tr><th scope=row>6230</th><td>6229                  </td><td>2015                  </td><td>    7                 </td><td>Dem. Rep. of the Congo</td><td>Africa                </td><td>Indonesia             </td><td>Asia                  </td></tr>\n",
       "\t<tr><th scope=row>6231</th><td>6230                  </td><td>2015                  </td><td>  351                 </td><td>Dem. Rep. of the Congo</td><td>Africa                </td><td>Ireland               </td><td>Europe                </td></tr>\n",
       "\t<tr><th scope=row>6232</th><td>6231                  </td><td>2015                  </td><td>   NA                 </td><td>Dem. Rep. of the Congo</td><td>Africa                </td><td>Israel                </td><td>Asia                  </td></tr>\n",
       "\t<tr><th scope=row>6233</th><td>6232                  </td><td>2015                  </td><td>  469                 </td><td>Dem. Rep. of the Congo</td><td>Africa                </td><td>Italy                 </td><td>Europe                </td></tr>\n",
       "\t<tr><th scope=row>6234</th><td>6233                  </td><td>2015                  </td><td>    3                 </td><td>Dem. Rep. of the Congo</td><td>Africa                </td><td>Japan                 </td><td>Asia                  </td></tr>\n",
       "\t<tr><th scope=row>6235</th><td>6234                  </td><td>2015                  </td><td>12046                 </td><td>Dem. Rep. of the Congo</td><td>Africa                </td><td>Kenya                 </td><td>Africa                </td></tr>\n",
       "\t<tr><th scope=row>6236</th><td>6235                  </td><td>2015                  </td><td>    1                 </td><td>Dem. Rep. of the Congo</td><td>Africa                </td><td>Latvia                </td><td>Europe                </td></tr>\n",
       "\t<tr><th scope=row>6237</th><td>6236                  </td><td>2015                  </td><td>    5                 </td><td>Dem. Rep. of the Congo</td><td>Africa                </td><td>Lebanon               </td><td>Asia                  </td></tr>\n",
       "\t<tr><th scope=row>6238</th><td>6237                  </td><td>2015                  </td><td>   20                 </td><td>Dem. Rep. of the Congo</td><td>Africa                </td><td>Lesotho               </td><td>Africa                </td></tr>\n",
       "\t<tr><th scope=row>6239</th><td>6238                  </td><td>2015                  </td><td>   10                 </td><td>Dem. Rep. of the Congo</td><td>Africa                </td><td>Liberia               </td><td>Africa                </td></tr>\n",
       "</tbody>\n",
       "</table>\n"
      ],
      "text/latex": [
       "\\begin{tabular}{r|lllllll}\n",
       "  & X & Year & People & CountryFrom & ContinentFrom & CountryTo & ContinentTo\\\\\n",
       "\\hline\n",
       "\t6190 & 6189                   & 2015                   &    42                  & Dem. Rep. of the Congo & Africa                 & Algeria                & Africa                \\\\\n",
       "\t6191 & 6190                   & 2015                   & 12944                  & Dem. Rep. of the Congo & Africa                 & Angola                 & Africa                \\\\\n",
       "\t6192 & 6191                   & 2015                   &    23                  & Dem. Rep. of the Congo & Africa                 & Argentina              & South America         \\\\\n",
       "\t6193 & 6192                   & 2015                   &    26                  & Dem. Rep. of the Congo & Africa                 & Australia              & Australia             \\\\\n",
       "\t6194 & 6193                   & 2015                   &   419                  & Dem. Rep. of the Congo & Africa                 & Austria                & Europe                \\\\\n",
       "\t6195 & 6194                   & 2015                   &  1008                  & Dem. Rep. of the Congo & Africa                 & Belgium                & Europe                \\\\\n",
       "\t6196 & 6195                   & 2015                   &     1                  & Dem. Rep. of the Congo & Africa                 & Benin                  & Africa                \\\\\n",
       "\t6197 & 6196                   & 2015                   &    80                  & Dem. Rep. of the Congo & Africa                 & Botswana               & Africa                \\\\\n",
       "\t6198 & 6197                   & 2015                   &  1045                  & Dem. Rep. of the Congo & Africa                 & Brazil                 & South America         \\\\\n",
       "\t6199 & 6198                   & 2015                   &     2                  & Dem. Rep. of the Congo & Africa                 & Bulgaria               & Europe                \\\\\n",
       "\t6200 & 6199                   & 2015                   &    25                  & Dem. Rep. of the Congo & Africa                 & Burkina Faso           & Africa                \\\\\n",
       "\t6201 & 6200                   & 2015                   & 53029                  & Dem. Rep. of the Congo & Africa                 & Burundi                & Africa                \\\\\n",
       "\t6202 & 6201                   & 2015                   &     1                  & Dem. Rep. of the Congo & Africa                 & Cambodia               & Asia                  \\\\\n",
       "\t6203 & 6202                   & 2015                   &   512                  & Dem. Rep. of the Congo & Africa                 & Cameroon               & Africa                \\\\\n",
       "\t6204 & 6203                   & 2015                   &  3316                  & Dem. Rep. of the Congo & Africa                 & Canada                 & North America         \\\\\n",
       "\t6205 & 6204                   & 2015                   &  4798                  & Dem. Rep. of the Congo & Africa                 & Central African Rep.   & Africa                \\\\\n",
       "\t6206 & 6205                   & 2015                   &   185                  & Dem. Rep. of the Congo & Africa                 & Chad                   & Africa                \\\\\n",
       "\t6207 & 6206                   & 2015                   &     9                  & Dem. Rep. of the Congo & Africa                 & Chile                  & South America         \\\\\n",
       "\t6208 & 6207                   & 2015                   &     4                  & Dem. Rep. of the Congo & Africa                 & China                  & Asia                  \\\\\n",
       "\t6209 & 6208                   & 2015                   & 12267                  & Dem. Rep. of the Congo & Africa                 & Congo                  & Africa                \\\\\n",
       "\t6210 & 6209                   & 2015                   &   157                  & Dem. Rep. of the Congo & Africa                 & Côte d'Ivoire          & Africa                \\\\\n",
       "\t6211 & 6210                   & 2015                   &     2                  & Dem. Rep. of the Congo & Africa                 & Croatia                & Europe                \\\\\n",
       "\t6212 & 6211                   & 2015                   &    17                  & Dem. Rep. of the Congo & Africa                 & Cyprus                 & Europe                \\\\\n",
       "\t6213 & 6212                   & 2015                   &    21                  & Dem. Rep. of the Congo & Africa                 & Czechia                & Europe                \\\\\n",
       "\t6214 & 6213                   & 2015                   &    90                  & Dem. Rep. of the Congo & Africa                 & Denmark                & Europe                \\\\\n",
       "\t6215 & 6214                   & 2015                   &    41                  & Dem. Rep. of the Congo & Africa                 & Egypt                  & North Africa          \\\\\n",
       "\t6216 & 6215                   & 2015                   &   426                  & Dem. Rep. of the Congo & Africa                 & Ethiopia               & Africa                \\\\\n",
       "\t6217 & 6216                   & 2015                   &   181                  & Dem. Rep. of the Congo & Africa                 & Finland                & Europe                \\\\\n",
       "\t6218 & 6217                   & 2015                   & 14182                  & Dem. Rep. of the Congo & Africa                 & France                 & Europe                \\\\\n",
       "\t6219 & 6218                   & 2015                   &    43                  & Dem. Rep. of the Congo & Africa                 & Gabon                  & Africa                \\\\\n",
       "\t6220 & 6219                   & 2015                   &    40                  & Dem. Rep. of the Congo & Africa                 & Gambia                 & Africa                \\\\\n",
       "\t6221 & 6220                   & 2015                   &  1537                  & Dem. Rep. of the Congo & Africa                 & Germany                & Europe                \\\\\n",
       "\t6222 & 6221                   & 2015                   &    45                  & Dem. Rep. of the Congo & Africa                 & Ghana                  & Africa                \\\\\n",
       "\t6223 & 6222                   & 2015                   &   129                  & Dem. Rep. of the Congo & Africa                 & Greece                 & Europe                \\\\\n",
       "\t6224 & 6223                   & 2015                   &    51                  & Dem. Rep. of the Congo & Africa                 & Guinea                 & Africa                \\\\\n",
       "\t6225 & 6224                   & 2015                   &     7                  & Dem. Rep. of the Congo & Africa                 & Guinea-Bissau          & Africa                \\\\\n",
       "\t6226 & 6225                   & 2015                   &     7                  & Dem. Rep. of the Congo & Africa                 & Guyana                 & South America         \\\\\n",
       "\t6227 & 6226                   & 2015                   &     1                  & Dem. Rep. of the Congo & Africa                 & Haiti                  & North America         \\\\\n",
       "\t6228 & 6227                   & 2015                   &    16                  & Dem. Rep. of the Congo & Africa                 & Hungary                & Europe                \\\\\n",
       "\t6229 & 6228                   & 2015                   &    43                  & Dem. Rep. of the Congo & Africa                 & India                  & Asia                  \\\\\n",
       "\t6230 & 6229                   & 2015                   &     7                  & Dem. Rep. of the Congo & Africa                 & Indonesia              & Asia                  \\\\\n",
       "\t6231 & 6230                   & 2015                   &   351                  & Dem. Rep. of the Congo & Africa                 & Ireland                & Europe                \\\\\n",
       "\t6232 & 6231                   & 2015                   &    NA                  & Dem. Rep. of the Congo & Africa                 & Israel                 & Asia                  \\\\\n",
       "\t6233 & 6232                   & 2015                   &   469                  & Dem. Rep. of the Congo & Africa                 & Italy                  & Europe                \\\\\n",
       "\t6234 & 6233                   & 2015                   &     3                  & Dem. Rep. of the Congo & Africa                 & Japan                  & Asia                  \\\\\n",
       "\t6235 & 6234                   & 2015                   & 12046                  & Dem. Rep. of the Congo & Africa                 & Kenya                  & Africa                \\\\\n",
       "\t6236 & 6235                   & 2015                   &     1                  & Dem. Rep. of the Congo & Africa                 & Latvia                 & Europe                \\\\\n",
       "\t6237 & 6236                   & 2015                   &     5                  & Dem. Rep. of the Congo & Africa                 & Lebanon                & Asia                  \\\\\n",
       "\t6238 & 6237                   & 2015                   &    20                  & Dem. Rep. of the Congo & Africa                 & Lesotho                & Africa                \\\\\n",
       "\t6239 & 6238                   & 2015                   &    10                  & Dem. Rep. of the Congo & Africa                 & Liberia                & Africa                \\\\\n",
       "\\end{tabular}\n"
      ],
      "text/markdown": [
       "\n",
       "| <!--/--> | X | Year | People | CountryFrom | ContinentFrom | CountryTo | ContinentTo |\n",
       "|---|---|---|---|---|---|---|---|\n",
       "| 6190 | 6189                   | 2015                   |    42                  | Dem. Rep. of the Congo | Africa                 | Algeria                | Africa                 |\n",
       "| 6191 | 6190                   | 2015                   | 12944                  | Dem. Rep. of the Congo | Africa                 | Angola                 | Africa                 |\n",
       "| 6192 | 6191                   | 2015                   |    23                  | Dem. Rep. of the Congo | Africa                 | Argentina              | South America          |\n",
       "| 6193 | 6192                   | 2015                   |    26                  | Dem. Rep. of the Congo | Africa                 | Australia              | Australia              |\n",
       "| 6194 | 6193                   | 2015                   |   419                  | Dem. Rep. of the Congo | Africa                 | Austria                | Europe                 |\n",
       "| 6195 | 6194                   | 2015                   |  1008                  | Dem. Rep. of the Congo | Africa                 | Belgium                | Europe                 |\n",
       "| 6196 | 6195                   | 2015                   |     1                  | Dem. Rep. of the Congo | Africa                 | Benin                  | Africa                 |\n",
       "| 6197 | 6196                   | 2015                   |    80                  | Dem. Rep. of the Congo | Africa                 | Botswana               | Africa                 |\n",
       "| 6198 | 6197                   | 2015                   |  1045                  | Dem. Rep. of the Congo | Africa                 | Brazil                 | South America          |\n",
       "| 6199 | 6198                   | 2015                   |     2                  | Dem. Rep. of the Congo | Africa                 | Bulgaria               | Europe                 |\n",
       "| 6200 | 6199                   | 2015                   |    25                  | Dem. Rep. of the Congo | Africa                 | Burkina Faso           | Africa                 |\n",
       "| 6201 | 6200                   | 2015                   | 53029                  | Dem. Rep. of the Congo | Africa                 | Burundi                | Africa                 |\n",
       "| 6202 | 6201                   | 2015                   |     1                  | Dem. Rep. of the Congo | Africa                 | Cambodia               | Asia                   |\n",
       "| 6203 | 6202                   | 2015                   |   512                  | Dem. Rep. of the Congo | Africa                 | Cameroon               | Africa                 |\n",
       "| 6204 | 6203                   | 2015                   |  3316                  | Dem. Rep. of the Congo | Africa                 | Canada                 | North America          |\n",
       "| 6205 | 6204                   | 2015                   |  4798                  | Dem. Rep. of the Congo | Africa                 | Central African Rep.   | Africa                 |\n",
       "| 6206 | 6205                   | 2015                   |   185                  | Dem. Rep. of the Congo | Africa                 | Chad                   | Africa                 |\n",
       "| 6207 | 6206                   | 2015                   |     9                  | Dem. Rep. of the Congo | Africa                 | Chile                  | South America          |\n",
       "| 6208 | 6207                   | 2015                   |     4                  | Dem. Rep. of the Congo | Africa                 | China                  | Asia                   |\n",
       "| 6209 | 6208                   | 2015                   | 12267                  | Dem. Rep. of the Congo | Africa                 | Congo                  | Africa                 |\n",
       "| 6210 | 6209                   | 2015                   |   157                  | Dem. Rep. of the Congo | Africa                 | Côte d'Ivoire          | Africa                 |\n",
       "| 6211 | 6210                   | 2015                   |     2                  | Dem. Rep. of the Congo | Africa                 | Croatia                | Europe                 |\n",
       "| 6212 | 6211                   | 2015                   |    17                  | Dem. Rep. of the Congo | Africa                 | Cyprus                 | Europe                 |\n",
       "| 6213 | 6212                   | 2015                   |    21                  | Dem. Rep. of the Congo | Africa                 | Czechia                | Europe                 |\n",
       "| 6214 | 6213                   | 2015                   |    90                  | Dem. Rep. of the Congo | Africa                 | Denmark                | Europe                 |\n",
       "| 6215 | 6214                   | 2015                   |    41                  | Dem. Rep. of the Congo | Africa                 | Egypt                  | North Africa           |\n",
       "| 6216 | 6215                   | 2015                   |   426                  | Dem. Rep. of the Congo | Africa                 | Ethiopia               | Africa                 |\n",
       "| 6217 | 6216                   | 2015                   |   181                  | Dem. Rep. of the Congo | Africa                 | Finland                | Europe                 |\n",
       "| 6218 | 6217                   | 2015                   | 14182                  | Dem. Rep. of the Congo | Africa                 | France                 | Europe                 |\n",
       "| 6219 | 6218                   | 2015                   |    43                  | Dem. Rep. of the Congo | Africa                 | Gabon                  | Africa                 |\n",
       "| 6220 | 6219                   | 2015                   |    40                  | Dem. Rep. of the Congo | Africa                 | Gambia                 | Africa                 |\n",
       "| 6221 | 6220                   | 2015                   |  1537                  | Dem. Rep. of the Congo | Africa                 | Germany                | Europe                 |\n",
       "| 6222 | 6221                   | 2015                   |    45                  | Dem. Rep. of the Congo | Africa                 | Ghana                  | Africa                 |\n",
       "| 6223 | 6222                   | 2015                   |   129                  | Dem. Rep. of the Congo | Africa                 | Greece                 | Europe                 |\n",
       "| 6224 | 6223                   | 2015                   |    51                  | Dem. Rep. of the Congo | Africa                 | Guinea                 | Africa                 |\n",
       "| 6225 | 6224                   | 2015                   |     7                  | Dem. Rep. of the Congo | Africa                 | Guinea-Bissau          | Africa                 |\n",
       "| 6226 | 6225                   | 2015                   |     7                  | Dem. Rep. of the Congo | Africa                 | Guyana                 | South America          |\n",
       "| 6227 | 6226                   | 2015                   |     1                  | Dem. Rep. of the Congo | Africa                 | Haiti                  | North America          |\n",
       "| 6228 | 6227                   | 2015                   |    16                  | Dem. Rep. of the Congo | Africa                 | Hungary                | Europe                 |\n",
       "| 6229 | 6228                   | 2015                   |    43                  | Dem. Rep. of the Congo | Africa                 | India                  | Asia                   |\n",
       "| 6230 | 6229                   | 2015                   |     7                  | Dem. Rep. of the Congo | Africa                 | Indonesia              | Asia                   |\n",
       "| 6231 | 6230                   | 2015                   |   351                  | Dem. Rep. of the Congo | Africa                 | Ireland                | Europe                 |\n",
       "| 6232 | 6231                   | 2015                   |    NA                  | Dem. Rep. of the Congo | Africa                 | Israel                 | Asia                   |\n",
       "| 6233 | 6232                   | 2015                   |   469                  | Dem. Rep. of the Congo | Africa                 | Italy                  | Europe                 |\n",
       "| 6234 | 6233                   | 2015                   |     3                  | Dem. Rep. of the Congo | Africa                 | Japan                  | Asia                   |\n",
       "| 6235 | 6234                   | 2015                   | 12046                  | Dem. Rep. of the Congo | Africa                 | Kenya                  | Africa                 |\n",
       "| 6236 | 6235                   | 2015                   |     1                  | Dem. Rep. of the Congo | Africa                 | Latvia                 | Europe                 |\n",
       "| 6237 | 6236                   | 2015                   |     5                  | Dem. Rep. of the Congo | Africa                 | Lebanon                | Asia                   |\n",
       "| 6238 | 6237                   | 2015                   |    20                  | Dem. Rep. of the Congo | Africa                 | Lesotho                | Africa                 |\n",
       "| 6239 | 6238                   | 2015                   |    10                  | Dem. Rep. of the Congo | Africa                 | Liberia                | Africa                 |\n",
       "\n"
      ],
      "text/plain": [
       "     X    Year People CountryFrom            ContinentFrom CountryTo           \n",
       "6190 6189 2015    42  Dem. Rep. of the Congo Africa        Algeria             \n",
       "6191 6190 2015 12944  Dem. Rep. of the Congo Africa        Angola              \n",
       "6192 6191 2015    23  Dem. Rep. of the Congo Africa        Argentina           \n",
       "6193 6192 2015    26  Dem. Rep. of the Congo Africa        Australia           \n",
       "6194 6193 2015   419  Dem. Rep. of the Congo Africa        Austria             \n",
       "6195 6194 2015  1008  Dem. Rep. of the Congo Africa        Belgium             \n",
       "6196 6195 2015     1  Dem. Rep. of the Congo Africa        Benin               \n",
       "6197 6196 2015    80  Dem. Rep. of the Congo Africa        Botswana            \n",
       "6198 6197 2015  1045  Dem. Rep. of the Congo Africa        Brazil              \n",
       "6199 6198 2015     2  Dem. Rep. of the Congo Africa        Bulgaria            \n",
       "6200 6199 2015    25  Dem. Rep. of the Congo Africa        Burkina Faso        \n",
       "6201 6200 2015 53029  Dem. Rep. of the Congo Africa        Burundi             \n",
       "6202 6201 2015     1  Dem. Rep. of the Congo Africa        Cambodia            \n",
       "6203 6202 2015   512  Dem. Rep. of the Congo Africa        Cameroon            \n",
       "6204 6203 2015  3316  Dem. Rep. of the Congo Africa        Canada              \n",
       "6205 6204 2015  4798  Dem. Rep. of the Congo Africa        Central African Rep.\n",
       "6206 6205 2015   185  Dem. Rep. of the Congo Africa        Chad                \n",
       "6207 6206 2015     9  Dem. Rep. of the Congo Africa        Chile               \n",
       "6208 6207 2015     4  Dem. Rep. of the Congo Africa        China               \n",
       "6209 6208 2015 12267  Dem. Rep. of the Congo Africa        Congo               \n",
       "6210 6209 2015   157  Dem. Rep. of the Congo Africa        Côte d'Ivoire       \n",
       "6211 6210 2015     2  Dem. Rep. of the Congo Africa        Croatia             \n",
       "6212 6211 2015    17  Dem. Rep. of the Congo Africa        Cyprus              \n",
       "6213 6212 2015    21  Dem. Rep. of the Congo Africa        Czechia             \n",
       "6214 6213 2015    90  Dem. Rep. of the Congo Africa        Denmark             \n",
       "6215 6214 2015    41  Dem. Rep. of the Congo Africa        Egypt               \n",
       "6216 6215 2015   426  Dem. Rep. of the Congo Africa        Ethiopia            \n",
       "6217 6216 2015   181  Dem. Rep. of the Congo Africa        Finland             \n",
       "6218 6217 2015 14182  Dem. Rep. of the Congo Africa        France              \n",
       "6219 6218 2015    43  Dem. Rep. of the Congo Africa        Gabon               \n",
       "6220 6219 2015    40  Dem. Rep. of the Congo Africa        Gambia              \n",
       "6221 6220 2015  1537  Dem. Rep. of the Congo Africa        Germany             \n",
       "6222 6221 2015    45  Dem. Rep. of the Congo Africa        Ghana               \n",
       "6223 6222 2015   129  Dem. Rep. of the Congo Africa        Greece              \n",
       "6224 6223 2015    51  Dem. Rep. of the Congo Africa        Guinea              \n",
       "6225 6224 2015     7  Dem. Rep. of the Congo Africa        Guinea-Bissau       \n",
       "6226 6225 2015     7  Dem. Rep. of the Congo Africa        Guyana              \n",
       "6227 6226 2015     1  Dem. Rep. of the Congo Africa        Haiti               \n",
       "6228 6227 2015    16  Dem. Rep. of the Congo Africa        Hungary             \n",
       "6229 6228 2015    43  Dem. Rep. of the Congo Africa        India               \n",
       "6230 6229 2015     7  Dem. Rep. of the Congo Africa        Indonesia           \n",
       "6231 6230 2015   351  Dem. Rep. of the Congo Africa        Ireland             \n",
       "6232 6231 2015    NA  Dem. Rep. of the Congo Africa        Israel              \n",
       "6233 6232 2015   469  Dem. Rep. of the Congo Africa        Italy               \n",
       "6234 6233 2015     3  Dem. Rep. of the Congo Africa        Japan               \n",
       "6235 6234 2015 12046  Dem. Rep. of the Congo Africa        Kenya               \n",
       "6236 6235 2015     1  Dem. Rep. of the Congo Africa        Latvia              \n",
       "6237 6236 2015     5  Dem. Rep. of the Congo Africa        Lebanon             \n",
       "6238 6237 2015    20  Dem. Rep. of the Congo Africa        Lesotho             \n",
       "6239 6238 2015    10  Dem. Rep. of the Congo Africa        Liberia             \n",
       "     ContinentTo  \n",
       "6190 Africa       \n",
       "6191 Africa       \n",
       "6192 South America\n",
       "6193 Australia    \n",
       "6194 Europe       \n",
       "6195 Europe       \n",
       "6196 Africa       \n",
       "6197 Africa       \n",
       "6198 South America\n",
       "6199 Europe       \n",
       "6200 Africa       \n",
       "6201 Africa       \n",
       "6202 Asia         \n",
       "6203 Africa       \n",
       "6204 North America\n",
       "6205 Africa       \n",
       "6206 Africa       \n",
       "6207 South America\n",
       "6208 Asia         \n",
       "6209 Africa       \n",
       "6210 Africa       \n",
       "6211 Europe       \n",
       "6212 Europe       \n",
       "6213 Europe       \n",
       "6214 Europe       \n",
       "6215 North Africa \n",
       "6216 Africa       \n",
       "6217 Europe       \n",
       "6218 Europe       \n",
       "6219 Africa       \n",
       "6220 Africa       \n",
       "6221 Europe       \n",
       "6222 Africa       \n",
       "6223 Europe       \n",
       "6224 Africa       \n",
       "6225 Africa       \n",
       "6226 South America\n",
       "6227 North America\n",
       "6228 Europe       \n",
       "6229 Asia         \n",
       "6230 Asia         \n",
       "6231 Europe       \n",
       "6232 Asia         \n",
       "6233 Europe       \n",
       "6234 Asia         \n",
       "6235 Africa       \n",
       "6236 Europe       \n",
       "6237 Asia         \n",
       "6238 Africa       \n",
       "6239 Africa       "
      ]
     },
     "metadata": {},
     "output_type": "display_data"
    }
   ],
   "source": [
    "head(data[data$Year == 2015 & data$ContinentFrom == \"Africa\",], n = 50)"
   ]
  },
  {
   "cell_type": "markdown",
   "metadata": {},
   "source": [
    "# See the refugee movement from a given year"
   ]
  },
  {
   "cell_type": "code",
   "execution_count": 29,
   "metadata": {},
   "outputs": [
    {
     "data": {
      "text/html": [
       "<table>\n",
       "<thead><tr><th scope=col>ContinentFrom</th><th scope=col>Total</th></tr></thead>\n",
       "<tbody>\n",
       "\t<tr><td>             </td><td> 580802      </td></tr>\n",
       "\t<tr><td>Africa       </td><td>5200079      </td></tr>\n",
       "\t<tr><td>Asia         </td><td>8970220      </td></tr>\n",
       "\t<tr><td>Australia    </td><td>     20      </td></tr>\n",
       "\t<tr><td>Europe       </td><td> 509039      </td></tr>\n",
       "\t<tr><td>North Africa </td><td>  17926      </td></tr>\n",
       "\t<tr><td>North America</td><td>  94690      </td></tr>\n",
       "\t<tr><td>Oceania      </td><td>    457      </td></tr>\n",
       "\t<tr><td>South America</td><td> 106122      </td></tr>\n",
       "</tbody>\n",
       "</table>\n"
      ],
      "text/latex": [
       "\\begin{tabular}{r|ll}\n",
       " ContinentFrom & Total\\\\\n",
       "\\hline\n",
       "\t               &  580802      \\\\\n",
       "\t Africa        & 5200079      \\\\\n",
       "\t Asia          & 8970220      \\\\\n",
       "\t Australia     &      20      \\\\\n",
       "\t Europe        &  509039      \\\\\n",
       "\t North Africa  &   17926      \\\\\n",
       "\t North America &   94690      \\\\\n",
       "\t Oceania       &     457      \\\\\n",
       "\t South America &  106122      \\\\\n",
       "\\end{tabular}\n"
      ],
      "text/markdown": [
       "\n",
       "| ContinentFrom | Total |\n",
       "|---|---|\n",
       "|               |  580802       |\n",
       "| Africa        | 5200079       |\n",
       "| Asia          | 8970220       |\n",
       "| Australia     |      20       |\n",
       "| Europe        |  509039       |\n",
       "| North Africa  |   17926       |\n",
       "| North America |   94690       |\n",
       "| Oceania       |     457       |\n",
       "| South America |  106122       |\n",
       "\n"
      ],
      "text/plain": [
       "  ContinentFrom Total  \n",
       "1                580802\n",
       "2 Africa        5200079\n",
       "3 Asia          8970220\n",
       "4 Australia          20\n",
       "5 Europe         509039\n",
       "6 North Africa    17926\n",
       "7 North America   94690\n",
       "8 Oceania           457\n",
       "9 South America  106122"
      ]
     },
     "metadata": {},
     "output_type": "display_data"
    }
   ],
   "source": [
    "data[data$Year == 2015,] %>% \n",
    "    group_by(ContinentFrom) %>%\n",
    "        summarise(Total = sum(People, na.rm = TRUE))"
   ]
  },
  {
   "cell_type": "markdown",
   "metadata": {},
   "source": [
    "# See the refugee movement from Asia over the years"
   ]
  },
  {
   "cell_type": "code",
   "execution_count": 33,
   "metadata": {},
   "outputs": [
    {
     "data": {
      "image/png": "[encoded data removed]",
      "text/plain": [
       "plot without title"
      ]
     },
     "metadata": {},
     "output_type": "display_data"
    }
   ],
   "source": [
    "data[data$ContinentFrom == \"Asia\"  & data$Year > 1980,] %>% \n",
    "    group_by(Year) %>%\n",
    "        summarise(Total = sum(People, na.rm = TRUE)) %>%\n",
    "            ggplot( ,mapping = aes(Year,Total)) + geom_line()"
   ]
  },
  {
   "cell_type": "markdown",
   "metadata": {},
   "source": [
    "# See the refugee movement from Syria over the years"
   ]
  },
  {
   "cell_type": "code",
   "execution_count": 37,
   "metadata": {},
   "outputs": [
    {
     "data": {
      "text/html": [
       "<table>\n",
       "<thead><tr><th scope=col>Year</th><th scope=col>Total</th></tr></thead>\n",
       "<tbody>\n",
       "\t<tr><td>1981   </td><td>    504</td></tr>\n",
       "\t<tr><td>1982   </td><td>    504</td></tr>\n",
       "\t<tr><td>1983   </td><td>    526</td></tr>\n",
       "\t<tr><td>1984   </td><td>    529</td></tr>\n",
       "\t<tr><td>1985   </td><td>   2599</td></tr>\n",
       "\t<tr><td>1986   </td><td>    534</td></tr>\n",
       "\t<tr><td>1987   </td><td>     20</td></tr>\n",
       "\t<tr><td>1988   </td><td>    881</td></tr>\n",
       "\t<tr><td>1989   </td><td>    397</td></tr>\n",
       "\t<tr><td>1990   </td><td>   2148</td></tr>\n",
       "\t<tr><td>1991   </td><td>   3037</td></tr>\n",
       "\t<tr><td>1992   </td><td>   4408</td></tr>\n",
       "\t<tr><td>1993   </td><td>   5404</td></tr>\n",
       "\t<tr><td>1994   </td><td>   7087</td></tr>\n",
       "\t<tr><td>1995   </td><td>   7994</td></tr>\n",
       "\t<tr><td>1996   </td><td>   8609</td></tr>\n",
       "\t<tr><td>1997   </td><td>   8653</td></tr>\n",
       "\t<tr><td>1998   </td><td>   8126</td></tr>\n",
       "\t<tr><td>1999   </td><td>   6695</td></tr>\n",
       "\t<tr><td>2000   </td><td>   5871</td></tr>\n",
       "\t<tr><td>2001   </td><td>   4869</td></tr>\n",
       "\t<tr><td>2002   </td><td>  18913</td></tr>\n",
       "\t<tr><td>2003   </td><td>  20819</td></tr>\n",
       "\t<tr><td>2004   </td><td>  21434</td></tr>\n",
       "\t<tr><td>2005   </td><td>  16401</td></tr>\n",
       "\t<tr><td>2006   </td><td>  12337</td></tr>\n",
       "\t<tr><td>2007   </td><td>  13671</td></tr>\n",
       "\t<tr><td>2008   </td><td>  15186</td></tr>\n",
       "\t<tr><td>2009   </td><td>  17884</td></tr>\n",
       "\t<tr><td>2010   </td><td>  18428</td></tr>\n",
       "\t<tr><td>2011   </td><td>  19900</td></tr>\n",
       "\t<tr><td>2012   </td><td> 728698</td></tr>\n",
       "\t<tr><td>2013   </td><td>2457241</td></tr>\n",
       "\t<tr><td>2014   </td><td>3869626</td></tr>\n",
       "\t<tr><td>2015   </td><td>4851450</td></tr>\n",
       "\t<tr><td>2016   </td><td>5500448</td></tr>\n",
       "</tbody>\n",
       "</table>\n"
      ],
      "text/latex": [
       "\\begin{tabular}{r|ll}\n",
       " Year & Total\\\\\n",
       "\\hline\n",
       "\t 1981    &     504\\\\\n",
       "\t 1982    &     504\\\\\n",
       "\t 1983    &     526\\\\\n",
       "\t 1984    &     529\\\\\n",
       "\t 1985    &    2599\\\\\n",
       "\t 1986    &     534\\\\\n",
       "\t 1987    &      20\\\\\n",
       "\t 1988    &     881\\\\\n",
       "\t 1989    &     397\\\\\n",
       "\t 1990    &    2148\\\\\n",
       "\t 1991    &    3037\\\\\n",
       "\t 1992    &    4408\\\\\n",
       "\t 1993    &    5404\\\\\n",
       "\t 1994    &    7087\\\\\n",
       "\t 1995    &    7994\\\\\n",
       "\t 1996    &    8609\\\\\n",
       "\t 1997    &    8653\\\\\n",
       "\t 1998    &    8126\\\\\n",
       "\t 1999    &    6695\\\\\n",
       "\t 2000    &    5871\\\\\n",
       "\t 2001    &    4869\\\\\n",
       "\t 2002    &   18913\\\\\n",
       "\t 2003    &   20819\\\\\n",
       "\t 2004    &   21434\\\\\n",
       "\t 2005    &   16401\\\\\n",
       "\t 2006    &   12337\\\\\n",
       "\t 2007    &   13671\\\\\n",
       "\t 2008    &   15186\\\\\n",
       "\t 2009    &   17884\\\\\n",
       "\t 2010    &   18428\\\\\n",
       "\t 2011    &   19900\\\\\n",
       "\t 2012    &  728698\\\\\n",
       "\t 2013    & 2457241\\\\\n",
       "\t 2014    & 3869626\\\\\n",
       "\t 2015    & 4851450\\\\\n",
       "\t 2016    & 5500448\\\\\n",
       "\\end{tabular}\n"
      ],
      "text/markdown": [
       "\n",
       "| Year | Total |\n",
       "|---|---|\n",
       "| 1981    |     504 |\n",
       "| 1982    |     504 |\n",
       "| 1983    |     526 |\n",
       "| 1984    |     529 |\n",
       "| 1985    |    2599 |\n",
       "| 1986    |     534 |\n",
       "| 1987    |      20 |\n",
       "| 1988    |     881 |\n",
       "| 1989    |     397 |\n",
       "| 1990    |    2148 |\n",
       "| 1991    |    3037 |\n",
       "| 1992    |    4408 |\n",
       "| 1993    |    5404 |\n",
       "| 1994    |    7087 |\n",
       "| 1995    |    7994 |\n",
       "| 1996    |    8609 |\n",
       "| 1997    |    8653 |\n",
       "| 1998    |    8126 |\n",
       "| 1999    |    6695 |\n",
       "| 2000    |    5871 |\n",
       "| 2001    |    4869 |\n",
       "| 2002    |   18913 |\n",
       "| 2003    |   20819 |\n",
       "| 2004    |   21434 |\n",
       "| 2005    |   16401 |\n",
       "| 2006    |   12337 |\n",
       "| 2007    |   13671 |\n",
       "| 2008    |   15186 |\n",
       "| 2009    |   17884 |\n",
       "| 2010    |   18428 |\n",
       "| 2011    |   19900 |\n",
       "| 2012    |  728698 |\n",
       "| 2013    | 2457241 |\n",
       "| 2014    | 3869626 |\n",
       "| 2015    | 4851450 |\n",
       "| 2016    | 5500448 |\n",
       "\n"
      ],
      "text/plain": [
       "   Year Total  \n",
       "1  1981     504\n",
       "2  1982     504\n",
       "3  1983     526\n",
       "4  1984     529\n",
       "5  1985    2599\n",
       "6  1986     534\n",
       "7  1987      20\n",
       "8  1988     881\n",
       "9  1989     397\n",
       "10 1990    2148\n",
       "11 1991    3037\n",
       "12 1992    4408\n",
       "13 1993    5404\n",
       "14 1994    7087\n",
       "15 1995    7994\n",
       "16 1996    8609\n",
       "17 1997    8653\n",
       "18 1998    8126\n",
       "19 1999    6695\n",
       "20 2000    5871\n",
       "21 2001    4869\n",
       "22 2002   18913\n",
       "23 2003   20819\n",
       "24 2004   21434\n",
       "25 2005   16401\n",
       "26 2006   12337\n",
       "27 2007   13671\n",
       "28 2008   15186\n",
       "29 2009   17884\n",
       "30 2010   18428\n",
       "31 2011   19900\n",
       "32 2012  728698\n",
       "33 2013 2457241\n",
       "34 2014 3869626\n",
       "35 2015 4851450\n",
       "36 2016 5500448"
      ]
     },
     "metadata": {},
     "output_type": "display_data"
    }
   ],
   "source": [
    "data[data$CountryFrom == \"Syrian Arab Rep.\"  & data$Year > 1980,] %>% \n",
    "    group_by(Year) %>%\n",
    "        summarise(Total = sum(People, na.rm = TRUE))"
   ]
  },
  {
   "cell_type": "code",
   "execution_count": 36,
   "metadata": {},
   "outputs": [
    {
     "data": {
      "image/png": "[encoded data removed]",
      "text/plain": [
       "plot without title"
      ]
     },
     "metadata": {},
     "output_type": "display_data"
    }
   ],
   "source": [
    "data[data$CountryFrom == \"Syrian Arab Rep.\"  & data$Year > 1980,] %>% \n",
    "    group_by(Year) %>%\n",
    "        summarise(Total = sum(People, na.rm = TRUE)) %>%\n",
    "            ggplot( ,mapping = aes(Year,Total)) + geom_line()"
   ]
  },
  {
   "cell_type": "code",
   "execution_count": 38,
   "metadata": {},
   "outputs": [
    {
     "data": {
      "image/png": "[encoded data removed]",
      "text/plain": [
       "plot without title"
      ]
     },
     "metadata": {},
     "output_type": "display_data"
    }
   ],
   "source": [
    "data[data$CountryFrom == \"Iraq\"  & data$Year > 1980,] %>% \n",
    "    group_by(Year) %>%\n",
    "        summarise(Total = sum(People, na.rm = TRUE)) %>%\n",
    "            ggplot( ,mapping = aes(Year,Total)) + geom_line()"
   ]
  },
  {
   "cell_type": "code",
   "execution_count": null,
   "metadata": {},
   "outputs": [],
   "source": []
  }
 ],
 "metadata": {
  "kernelspec": {
   "display_name": "R",
   "language": "R",
   "name": "ir"
  },
  "language_info": {
   "codemirror_mode": "r",
   "file_extension": ".r",
   "mimetype": "text/x-r-source",
   "name": "R",
   "pygments_lexer": "r",
   "version": "3.4.4"
  },
  "varInspector": {
   "cols": {
    "lenName": 16,
    "lenType": 16,
    "lenVar": 40
   },
   "kernels_config": {
    "python": {
     "delete_cmd_postfix": "",
     "delete_cmd_prefix": "del ",
     "library": "var_list.py",
     "varRefreshCmd": "print(var_dic_list())"
    },
    "r": {
     "delete_cmd_postfix": ") ",
     "delete_cmd_prefix": "rm(",
     "library": "var_list.r",
     "varRefreshCmd": "cat(var_dic_list()) "
    }
   },
   "types_to_exclude": [
    "module",
    "function",
    "builtin_function_or_method",
    "instance",
    "_Feature"
   ],
   "window_display": false
  }
 },
 "nbformat": 4,
 "nbformat_minor": 2
}
