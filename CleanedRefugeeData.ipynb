{
 "cells": [
  {
   "cell_type": "code",
   "execution_count": 1,
   "metadata": {},
   "outputs": [
    {
     "name": "stderr",
     "output_type": "stream",
     "text": [
      "/home/rstudio/.local/lib/python3.5/site-packages/fuzzywuzzy/fuzz.py:11: UserWarning: Using slow pure-python SequenceMatcher. Install python-Levenshtein to remove this warning\n",
      "  warnings.warn('Using slow pure-python SequenceMatcher. Install python-Levenshtein to remove this warning')\n"
     ]
    }
   ],
   "source": [
    "import pandas as pd, numpy as np, matplotlib as mpl, xlrd, string\n",
    "from fuzzywuzzy import fuzz,process"
   ]
  },
  {
   "cell_type": "markdown",
   "metadata": {},
   "source": [
    "# Add continent columns "
   ]
  },
  {
   "cell_type": "code",
   "execution_count": 2,
   "metadata": {
    "collapsed": true
   },
   "outputs": [],
   "source": [
    "#Read and clean raw data and country/continent lookup table\n",
    "RawData = pd.read_excel(\"RefugeeData.xlsx\")\n",
    "df = RawData.drop(axis = 1, labels=['Population type'])\n",
    "ContinentLookup = pd.read_excel('ContinentsList.xlsx')\n",
    "ContinentLookup = ContinentLookup.rename(columns={'Country or territory of asylum or residence':'Country'})\n",
    "df = df.rename(columns={'Country / territory of asylum/residence': 'CountryTo','Origin': 'CountryFrom'})"
   ]
  },
  {
   "cell_type": "code",
   "execution_count": 3,
   "metadata": {
    "collapsed": true
   },
   "outputs": [],
   "source": [
    "#add ContinentTo to df by joining with continent lookup table\n",
    "df = df.merge(ContinentLookup, left_on = \"CountryTo\", right_on = \"Country\", how = \"left\", copy=False).drop(labels = [\"Country\"], axis = 1)\n",
    "df = df.rename(columns={'Continent': 'ContinentTo'})"
   ]
  },
  {
   "cell_type": "code",
   "execution_count": 4,
   "metadata": {
    "collapsed": true
   },
   "outputs": [],
   "source": [
    "#add ContinentFrom to df by joining with continent lookup table\n",
    "df = df.merge(ContinentLookup, left_on = \"CountryFrom\", right_on = \"Country\").drop(labels = [\"Country\"], axis = 1)\n",
    "df = df.rename(columns={'Continent': 'ContinentFrom'})"
   ]
  },
  {
   "cell_type": "code",
   "execution_count": 5,
   "metadata": {
    "collapsed": true
   },
   "outputs": [],
   "source": [
    "#Remove rows with all various locations\n",
    "VariousString = \"Various/Unknown\" + \"Various/Unknown\" + \"Various\" + \"Various\"\n",
    "AllColumns = df.CountryTo + df.CountryFrom + df.ContinentFrom + df.ContinentTo\n",
    "df[\"RemoveVarious\"] = AllColumns\n",
    "df = df.loc[df.RemoveVarious != VariousString]\n",
    "df = df.drop(columns=\"RemoveVarious\")"
   ]
  },
  {
   "cell_type": "code",
   "execution_count": 6,
   "metadata": {
    "collapsed": true
   },
   "outputs": [],
   "source": [
    "#Change rows that have North Africa to Africa\n",
    "df['ContinentFromClean'] = np.where(\n",
    "                                     df.ContinentFrom==\"North Africa\"\n",
    "                                    ,\"Africa\"\n",
    "                                    ,df.ContinentFrom\n",
    "                                    )\n",
    "\n",
    "df['ContinentToClean'] = np.where(\n",
    "                                    df.ContinentTo==\"North Africa\"\n",
    "                                   ,\"Africa\"\n",
    "                                   ,df.ContinentTo\n",
    "                                  )\n"
   ]
  },
  {
   "cell_type": "code",
   "execution_count": 7,
   "metadata": {
    "collapsed": true
   },
   "outputs": [],
   "source": [
    "#Drop old columns\n",
    "df = df.drop('ContinentFrom', 1)\n",
    "df = df.drop('ContinentTo', 1)\n",
    "df = df.rename(columns={'ContinentFromClean': 'ContinentFrom','ContinentToClean': 'ContinentTo'})\n",
    "#Reorder columns\n",
    "df = df[['Year','Value','CountryFrom','CountryTo','ContinentFrom','ContinentTo']]\n",
    "#Remove rows where value = '*'\n",
    "df = df.loc[df.Value != '*']\n",
    "#Export final table to csv\n",
    "df.to_csv(\"CleanRefugeeTable.csv\")"
   ]
  },
  {
   "cell_type": "markdown",
   "metadata": {},
   "source": [
    "# Create country lookup table from countries in refugee & data "
   ]
  },
  {
   "cell_type": "code",
   "execution_count": 8,
   "metadata": {
    "collapsed": true
   },
   "outputs": [],
   "source": [
    "CountryPopulationData = pd.read_excel('CountryPopulations.xlsx')\n",
    "Continents = pd.read_excel('ContinentsList.xlsx')\n",
    "\n",
    "# Make list of unique countrys to lookup\n",
    "CountryList = pd.concat([CountryPopulationData['Country Name']\n",
    "        ,Continents['Country or territory of asylum or residence']]).drop_duplicates().reset_index().drop(columns='index')\n",
    "CountryList.columns = ['Country']"
   ]
  },
  {
   "cell_type": "code",
   "execution_count": 9,
   "metadata": {},
   "outputs": [
    {
     "name": "stdout",
     "output_type": "stream",
     "text": [
      "0\n",
      "1\n",
      "2\n",
      "3\n",
      "4\n",
      "5\n",
      "6\n",
      "7\n",
      "8\n",
      "9\n",
      "10\n",
      "11\n",
      "12\n",
      "13\n",
      "14\n",
      "15\n",
      "16\n",
      "17\n",
      "18\n",
      "19\n",
      "20\n",
      "21\n",
      "22\n",
      "23\n",
      "24\n",
      "25\n",
      "26\n",
      "27\n",
      "28\n",
      "29\n",
      "30\n",
      "31\n",
      "32\n",
      "33\n",
      "34\n",
      "35\n",
      "36\n",
      "37\n",
      "38\n",
      "39\n",
      "40\n",
      "41\n",
      "42\n",
      "43\n",
      "44\n",
      "45\n",
      "46\n",
      "47\n",
      "48\n",
      "49\n",
      "50\n",
      "51\n",
      "52\n",
      "53\n",
      "54\n",
      "55\n",
      "56\n",
      "57\n",
      "58\n",
      "59\n",
      "60\n",
      "61\n",
      "62\n",
      "63\n",
      "64\n",
      "65\n",
      "66\n",
      "67\n",
      "68\n",
      "69\n",
      "70\n",
      "71\n",
      "72\n",
      "73\n",
      "74\n",
      "75\n",
      "76\n",
      "77\n",
      "78\n",
      "79\n",
      "80\n",
      "81\n",
      "82\n",
      "83\n",
      "84\n",
      "85\n",
      "86\n",
      "87\n",
      "88\n",
      "89\n",
      "90\n",
      "91\n",
      "92\n",
      "93\n",
      "94\n",
      "95\n",
      "96\n",
      "97\n",
      "98\n",
      "99\n",
      "100\n",
      "101\n",
      "102\n",
      "103\n",
      "104\n",
      "105\n",
      "106\n",
      "107\n",
      "108\n",
      "109\n",
      "110\n",
      "111\n",
      "112\n",
      "113\n",
      "114\n",
      "115\n",
      "116\n",
      "117\n",
      "118\n",
      "119\n",
      "120\n",
      "121\n",
      "122\n",
      "123\n",
      "124\n",
      "125\n",
      "126\n",
      "127\n",
      "128\n",
      "129\n",
      "130\n",
      "131\n",
      "132\n",
      "133\n",
      "134\n",
      "135\n",
      "136\n",
      "137\n",
      "138\n",
      "139\n",
      "140\n",
      "141\n",
      "142\n",
      "143\n",
      "144\n",
      "145\n",
      "146\n",
      "147\n",
      "148\n",
      "149\n",
      "150\n",
      "151\n",
      "152\n",
      "153\n",
      "154\n",
      "155\n",
      "156\n",
      "157\n",
      "158\n",
      "159\n",
      "160\n",
      "161\n",
      "162\n",
      "163\n",
      "164\n",
      "165\n",
      "166\n",
      "167\n",
      "168\n",
      "169\n",
      "170\n",
      "171\n",
      "172\n",
      "173\n",
      "174\n",
      "175\n",
      "176\n",
      "177\n",
      "178\n",
      "179\n",
      "180\n",
      "181\n",
      "182\n",
      "183\n",
      "184\n",
      "185\n",
      "186\n",
      "187\n",
      "188\n",
      "189\n",
      "190\n",
      "191\n",
      "192\n",
      "193\n",
      "194\n",
      "195\n",
      "196\n",
      "197\n",
      "198\n",
      "199\n",
      "200\n",
      "201\n",
      "202\n",
      "203\n",
      "204\n",
      "205\n",
      "206\n",
      "207\n",
      "208\n",
      "209\n",
      "210\n",
      "211\n",
      "212\n",
      "213\n",
      "214\n",
      "215\n",
      "216\n",
      "217\n",
      "218\n",
      "219\n",
      "220\n",
      "221\n",
      "222\n",
      "223\n",
      "224\n",
      "225\n",
      "226\n",
      "227\n",
      "228\n",
      "229\n",
      "230\n",
      "231\n",
      "232\n",
      "233\n",
      "234\n",
      "235\n",
      "236\n",
      "237\n",
      "238\n",
      "239\n",
      "240\n",
      "241\n",
      "242\n",
      "243\n",
      "244\n",
      "245\n",
      "246\n",
      "247\n",
      "248\n",
      "249\n",
      "250\n",
      "251\n",
      "252\n",
      "253\n",
      "254\n",
      "255\n",
      "256\n",
      "257\n",
      "258\n",
      "259\n",
      "260\n",
      "261\n",
      "262\n",
      "263\n",
      "264\n",
      "265\n",
      "266\n",
      "267\n",
      "268\n",
      "269\n",
      "270\n",
      "271\n",
      "272\n",
      "273\n",
      "274\n",
      "275\n",
      "276\n",
      "277\n",
      "278\n",
      "279\n",
      "280\n",
      "281\n",
      "282\n",
      "283\n",
      "284\n",
      "285\n",
      "286\n",
      "287\n",
      "288\n",
      "289\n",
      "290\n",
      "291\n",
      "292\n",
      "293\n",
      "294\n",
      "295\n",
      "296\n",
      "297\n",
      "298\n",
      "299\n",
      "300\n",
      "301\n",
      "302\n",
      "303\n",
      "304\n",
      "305\n",
      "306\n",
      "307\n",
      "308\n",
      "309\n",
      "310\n",
      "311\n",
      "312\n",
      "313\n",
      "314\n",
      "315\n",
      "316\n",
      "317\n",
      "318\n"
     ]
    }
   ],
   "source": [
    "#make dataframe with fuzzy matching loop to pull best matches as column\n",
    "\n",
    "CleanNames = pd.DataFrame({\"Country\":[],\n",
    "        \"BestScore\":[],\n",
    "        \"BestScoreCountry\":[]})\n",
    "\n",
    "for i, j in enumerate(CountryList.Country):\n",
    "    \n",
    "    MatchPrevious = CountryList.loc[i].Country\n",
    "    ScoreDF = pd.DataFrame(columns=[\"Country\",\"Score\"])\n",
    "    print(i)\n",
    "    if i > 0:\n",
    "        for row in CountryList.Country[:i]:\n",
    "            temp = pd.DataFrame({\n",
    "                               \"Country\":[row]\n",
    "                              ,\"Score\":[fuzz.token_set_ratio(MatchPrevious,row)]\n",
    "                              })\n",
    "            ScoreDF = ScoreDF.append(temp)\n",
    "      \n",
    "        BestScore = pd.DataFrame({\"Country\":[MatchPrevious],\n",
    "        \"BestScore\":[max(ScoreDF.Score)],\n",
    "        \"BestScoreCountry\":[np.array(ScoreDF.loc[ScoreDF.Score == max(ScoreDF.Score),\"Country\"])[0]]})\n",
    "      \n",
    "  \n",
    "        CleanNames = CleanNames.append(BestScore)"
   ]
  },
  {
   "cell_type": "code",
   "execution_count": 10,
   "metadata": {
    "collapsed": true
   },
   "outputs": [],
   "source": [
    "#Add column and run loop to retrieve country strings from best matchs\n",
    "\n",
    "CleanNames['Clean'] = \"\"\n",
    "CleanNames = CleanNames.reset_index().drop(columns='index')\n",
    "\n",
    "for i, j in enumerate(CleanNames[\"Country\"]):\n",
    "    if CleanNames.loc[i,\"BestScore\"] > 90:\n",
    "        CleanNames.loc[i, \"Clean\"] = CleanNames.loc[i, \"BestScoreCountry\"]\n",
    "    else:\n",
    "        CleanNames.loc[i,\"Clean\"] = CleanNames.loc[i,\"Country\"]\n",
    "        \n",
    "CleanNames.to_csv('CountryFuzzy.csv')"
   ]
  },
  {
   "cell_type": "code",
   "execution_count": 11,
   "metadata": {
    "collapsed": true
   },
   "outputs": [],
   "source": [
    "#Wrangle country lookup table\n",
    "CountryLookup = pd.read_excel('CountryLookup.xlsx')\n",
    "CountryLookup = CountryLookup.drop(columns=['Unnamed: 0','BestScore'])\n",
    "CountryLookup = CountryLookup.loc[CountryLookup.Cleaner != 'remove']\n",
    "CountryLookup = CountryLookup.reset_index().drop(columns='index')\n",
    "CountryPopulationData = CountryPopulationData.drop([\"Country Code\",\"Indicator Name\",\"Indicator Code\"], axis=1)"
   ]
  },
  {
   "cell_type": "code",
   "execution_count": 12,
   "metadata": {
    "collapsed": true
   },
   "outputs": [],
   "source": [
    "#Wrangle and merge population table with the lookup for a clean name column\n",
    "Populations = pd.melt(CountryPopulationData, 'Country Name', var_name='Date', value_name='Total Population')\n",
    "Populations = Populations.merge(CountryLookup,how='left',left_on='Country Name',right_on='Country')\n",
    "Populations = Populations.drop(columns='Country')\n",
    "Populations.to_csv(\"Populations.csv\")"
   ]
  },
  {
   "cell_type": "markdown",
   "metadata": {},
   "source": [
    "# Add population column to df"
   ]
  },
  {
   "cell_type": "code",
   "execution_count": 13,
   "metadata": {},
   "outputs": [
    {
     "data": {
      "text/plain": [
       "100422"
      ]
     },
     "execution_count": 13,
     "metadata": {},
     "output_type": "execute_result"
    }
   ],
   "source": [
    "df = pd.read_csv(\"CleanRefugeeTable.csv\")\n",
    "Pop = pd.read_csv(\"Populations.csv\")\n",
    "CountryLookup = pd.read_excel(\"CountryLookup.xlsx\")\n",
    "len(df)"
   ]
  },
  {
   "cell_type": "code",
   "execution_count": 14,
   "metadata": {},
   "outputs": [
    {
     "data": {
      "text/plain": [
       "100421"
      ]
     },
     "execution_count": 14,
     "metadata": {},
     "output_type": "execute_result"
    }
   ],
   "source": [
    "#Clean all dataframes for merge\n",
    "Pop = Pop.drop(columns=[\"Cleaner\"])\n",
    "df = df.loc[df.CountryTo.isna()==False]\n",
    "df = df.drop(columns='Unnamed: 0')\n",
    "Pop = Pop.drop(columns='Unnamed: 0')\n",
    "CountryLookup = CountryLookup.drop(columns=[\"Unnamed: 0\"])\n",
    "len(df)"
   ]
  },
  {
   "cell_type": "code",
   "execution_count": 15,
   "metadata": {
    "collapsed": true
   },
   "outputs": [],
   "source": [
    "#Clean country column\n",
    "\n",
    "Pop = Pop.merge(CountryLookup,how='left',left_on='Country Name', right_on='Country')\n",
    "Pop = Pop.drop(columns=[\"Country\",\"BestScore\"])\n",
    "\n",
    "#add cleancountry column to Pop df to remove na\n",
    "Pop[\"CleanCountry\"] = np.where(pd.isna(Pop[\"Cleaner\"]),\n",
    "                                           Pop[\"Country Name\"],\n",
    "                                         Pop[\"Cleaner\"])\n",
    "\n",
    "Pop = Pop.drop(columns='Cleaner')"
   ]
  },
  {
   "cell_type": "code",
   "execution_count": 16,
   "metadata": {
    "collapsed": true
   },
   "outputs": [],
   "source": [
    "#merge main df and countrylookup to get the clean country column\n",
    "df = df.merge(CountryLookup, how='left',left_on='CountryFrom',right_on='Country')\n",
    "df = df.drop(columns=[\"BestScore\",\"Country\"])\n",
    "Pop.columns = ['Country','Year','Population',\"CleanCountry\"]"
   ]
  },
  {
   "cell_type": "code",
   "execution_count": 17,
   "metadata": {},
   "outputs": [
    {
     "data": {
      "text/plain": [
       "100421"
      ]
     },
     "execution_count": 17,
     "metadata": {},
     "output_type": "execute_result"
    }
   ],
   "source": [
    "#merge df and Pop to add yearly populations to country data \n",
    "CleanTable = pd.merge(df, Pop,  how='left', left_on=['Year','Cleaner'], right_on = ['Year','CleanCountry'])\n",
    "CleanTable = CleanTable.drop(columns=[\"Country\",\"CleanCountry\",\"Cleaner\"])\n",
    "CleanTable = CleanTable.rename(columns={'Population': 'CountryFromPopulation'})\n",
    "len(CleanTable)"
   ]
  },
  {
   "cell_type": "code",
   "execution_count": 18,
   "metadata": {},
   "outputs": [
    {
     "name": "stdout",
     "output_type": "stream",
     "text": [
      "0.06153095468079386\n"
     ]
    }
   ],
   "source": [
    "# Percentage of N/A rows in the Population column\n",
    "print(len(CleanTable.loc[CleanTable.CountryFromPopulation.isna()==True])/len(CleanTable))"
   ]
  },
  {
   "cell_type": "code",
   "execution_count": 19,
   "metadata": {
    "collapsed": true
   },
   "outputs": [],
   "source": [
    "CleanTable.to_csv(\"CleanedRefugeeData.csv\")"
   ]
  }
 ],
 "metadata": {
  "kernelspec": {
   "display_name": "Python 3",
   "language": "python",
   "name": "python3"
  },
  "language_info": {
   "codemirror_mode": {
    "name": "ipython",
    "version": 3
   },
   "file_extension": ".py",
   "mimetype": "text/x-python",
   "name": "python",
   "nbconvert_exporter": "python",
   "pygments_lexer": "ipython3",
   "version": "3.5.2"
  }
 },
 "nbformat": 4,
 "nbformat_minor": 2
}
